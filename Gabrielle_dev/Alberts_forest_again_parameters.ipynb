{
 "cells": [
  {
   "cell_type": "markdown",
   "metadata": {},
   "source": [
    "## WCF Modelling\n",
    "\n",
    "This code:\n",
    "\n",
    "- Import a CSV and create a random forest model\n",
    "- Choose a location and download some satellite data\n",
    "- Apply model to satellite image\n",
    "- Do some plotting"
   ]
  },
  {
   "cell_type": "markdown",
   "metadata": {},
   "source": [
    "#### Questions and things to do\n",
    "\n",
    "- Why is the data in the geomedian orders larger than the data in the csv?\n",
    "    - I think the geomedian is in DNs and the training data is SR?\n",
    "- What is the threshold for woody / not woody?\n",
    "    - If it measures how woody, everything over 0 is woody?\n",
    "- Fiddle with the random forest parameters\n",
    "- Should I transform the inputs to be gaussian?"
   ]
  },
  {
   "cell_type": "markdown",
   "metadata": {},
   "source": [
    "#### Other things to consider\n",
    "\n",
    "- WCF saturates above 0.6\n",
    "\n",
    "#### Sources of error\n",
    "\n",
    "- Since WCF is derived from single-date LiDAR data and an annual geomedian is being used to predict it the geomedian may not represent the same vegetation as was present when LiDAR was acquired.\n",
    "- Mixed pixels containing water and vegetation tended to overestimate WCF.\n",
    "- Vegetation lower than 2m (e.g. dense shrubland or new plantations) could have a WCF from Landsat, although LiDAR would not have.\n",
    "\n",
    "LiDAR\n",
    "- Variation in pulse density (4 to 8 ppm)\n",
    "- Variation in achieved density returns (4 to 20 ppm)\n",
    "\n",
    "WCF derived from LiDAR was suprisingly low\n",
    "- possibly due to attribution of VCF to height, and only above 2m is considered in WCF\n",
    "- identifying points in LiDAR waveform is more challenging over dense uniform forest\n",
    "\n",
    "Overall systematic underestimation of true cover at high values\n",
    "\n"
   ]
  },
  {
   "cell_type": "markdown",
   "metadata": {},
   "source": [
    "#### Import modules"
   ]
  },
  {
   "cell_type": "code",
   "execution_count": 1,
   "metadata": {},
   "outputs": [],
   "source": [
    "%matplotlib inline\n",
    "\n",
    "import sys\n",
    "import pandas as pd\n",
    "import datacube\n",
    "import matplotlib.pyplot as plt\n",
    "\n",
    "sys.path.append(\"../Scripts\")\n",
    "from dea_datahandling import load_ard\n",
    "from dea_datahandling import mostcommon_crs\n",
    "from dea_plotting import display_map\n",
    "from dea_plotting import rgb\n",
    "from dea_classificationtools import predict_xr\n",
    "from dea_classificationtools import sklearn_unflatten\n",
    "from dea_classificationtools import sklearn_flatten\n",
    "\n",
    "from sklearn.model_selection import train_test_split, GridSearchCV, RandomizedSearchCV\n",
    "from sklearn.ensemble import RandomForestRegressor\n",
    "from sklearn import preprocessing\n",
    "from sklearn import metrics\n",
    "\n",
    "import numpy as np\n",
    "import xarray as xr\n",
    "from sklearn.model_selection import GridSearchCV"
   ]
  },
  {
   "cell_type": "code",
   "execution_count": 2,
   "metadata": {},
   "outputs": [],
   "source": [
    "dc = datacube.Datacube(app='Alberts Forest')"
   ]
  },
  {
   "cell_type": "markdown",
   "metadata": {},
   "source": [
    "#### Import training data csv"
   ]
  },
  {
   "cell_type": "code",
   "execution_count": 3,
   "metadata": {},
   "outputs": [
    {
     "data": {
      "text/html": [
       "<div>\n",
       "<style scoped>\n",
       "    .dataframe tbody tr th:only-of-type {\n",
       "        vertical-align: middle;\n",
       "    }\n",
       "\n",
       "    .dataframe tbody tr th {\n",
       "        vertical-align: top;\n",
       "    }\n",
       "\n",
       "    .dataframe thead th {\n",
       "        text-align: right;\n",
       "    }\n",
       "</style>\n",
       "<table border=\"1\" class=\"dataframe\">\n",
       "  <thead>\n",
       "    <tr style=\"text-align: right;\">\n",
       "      <th></th>\n",
       "      <th>WCF</th>\n",
       "      <th>blue</th>\n",
       "      <th>green</th>\n",
       "      <th>red</th>\n",
       "      <th>nir</th>\n",
       "      <th>swir1</th>\n",
       "      <th>swir2</th>\n",
       "    </tr>\n",
       "  </thead>\n",
       "  <tbody>\n",
       "    <tr>\n",
       "      <th>0</th>\n",
       "      <td>0.261320</td>\n",
       "      <td>0.034313</td>\n",
       "      <td>0.047605</td>\n",
       "      <td>0.052131</td>\n",
       "      <td>0.19575</td>\n",
       "      <td>0.14400</td>\n",
       "      <td>0.082638</td>\n",
       "    </tr>\n",
       "    <tr>\n",
       "      <th>1</th>\n",
       "      <td>0.116210</td>\n",
       "      <td>0.044998</td>\n",
       "      <td>0.067579</td>\n",
       "      <td>0.083996</td>\n",
       "      <td>0.20979</td>\n",
       "      <td>0.25615</td>\n",
       "      <td>0.160270</td>\n",
       "    </tr>\n",
       "    <tr>\n",
       "      <th>2</th>\n",
       "      <td>0.408240</td>\n",
       "      <td>0.022349</td>\n",
       "      <td>0.035390</td>\n",
       "      <td>0.040748</td>\n",
       "      <td>0.19127</td>\n",
       "      <td>0.11858</td>\n",
       "      <td>0.070578</td>\n",
       "    </tr>\n",
       "    <tr>\n",
       "      <th>3</th>\n",
       "      <td>0.000000</td>\n",
       "      <td>0.048717</td>\n",
       "      <td>0.077072</td>\n",
       "      <td>0.091846</td>\n",
       "      <td>0.24272</td>\n",
       "      <td>0.29843</td>\n",
       "      <td>0.190590</td>\n",
       "    </tr>\n",
       "    <tr>\n",
       "      <th>4</th>\n",
       "      <td>0.053365</td>\n",
       "      <td>0.059975</td>\n",
       "      <td>0.087660</td>\n",
       "      <td>0.104420</td>\n",
       "      <td>0.23314</td>\n",
       "      <td>0.27891</td>\n",
       "      <td>0.184080</td>\n",
       "    </tr>\n",
       "  </tbody>\n",
       "</table>\n",
       "</div>"
      ],
      "text/plain": [
       "        WCF      blue     green       red      nir    swir1     swir2\n",
       "0  0.261320  0.034313  0.047605  0.052131  0.19575  0.14400  0.082638\n",
       "1  0.116210  0.044998  0.067579  0.083996  0.20979  0.25615  0.160270\n",
       "2  0.408240  0.022349  0.035390  0.040748  0.19127  0.11858  0.070578\n",
       "3  0.000000  0.048717  0.077072  0.091846  0.24272  0.29843  0.190590\n",
       "4  0.053365  0.059975  0.087660  0.104420  0.23314  0.27891  0.184080"
      ]
     },
     "execution_count": 3,
     "metadata": {},
     "output_type": "execute_result"
    }
   ],
   "source": [
    "path = 'WCF_traindata_22102019.csv'\n",
    "df = pd.read_csv(path)\n",
    "df.head()"
   ]
  },
  {
   "cell_type": "code",
   "execution_count": 4,
   "metadata": {},
   "outputs": [
    {
     "name": "stderr",
     "output_type": "stream",
     "text": [
      "/usr/local/lib/python3.6/dist-packages/numpy/lib/histograms.py:839: RuntimeWarning: invalid value encountered in greater_equal\n",
      "  keep = (tmp_a >= first_edge)\n",
      "/usr/local/lib/python3.6/dist-packages/numpy/lib/histograms.py:840: RuntimeWarning: invalid value encountered in less_equal\n",
      "  keep &= (tmp_a <= last_edge)\n"
     ]
    },
    {
     "data": {
      "text/plain": [
       "(array([3.4300e+02, 2.9910e+03, 1.0091e+04, 4.6360e+03, 3.0950e+03,\n",
       "        3.3790e+03, 2.5860e+03, 2.6170e+03, 2.3170e+03, 2.2930e+03,\n",
       "        1.8350e+03, 1.6390e+03, 1.5450e+03, 9.6700e+02, 3.0900e+02,\n",
       "        1.2600e+02, 8.6000e+01, 7.3000e+01, 4.7000e+01, 5.5000e+01,\n",
       "        4.0000e+01, 3.0000e+01, 3.1000e+01, 1.8000e+01, 1.1000e+01,\n",
       "        1.9000e+01, 1.2000e+01, 4.0000e+00, 6.0000e+00, 3.0000e+00]),\n",
       " array([-0.0017486 ,  0.01440769,  0.03056397,  0.04672026,  0.06287655,\n",
       "         0.07903283,  0.09518912,  0.11134541,  0.12750169,  0.14365798,\n",
       "         0.15981427,  0.17597055,  0.19212684,  0.20828313,  0.22443941,\n",
       "         0.2405957 ,  0.25675199,  0.27290827,  0.28906456,  0.30522085,\n",
       "         0.32137713,  0.33753342,  0.35368971,  0.36984599,  0.38600228,\n",
       "         0.40215857,  0.41831485,  0.43447114,  0.45062743,  0.46678371,\n",
       "         0.48294   ]),\n",
       " <a list of 30 Patch objects>)"
      ]
     },
     "execution_count": 4,
     "metadata": {},
     "output_type": "execute_result"
    },
    {
     "data": {
      "image/png": "[encoded data removed]",
      "text/plain": [
       "<Figure size 432x288 with 6 Axes>"
      ]
     },
     "metadata": {
      "needs_background": "light"
     },
     "output_type": "display_data"
    }
   ],
   "source": [
    "fig, axs = plt.subplots(2, 3, sharey=True, tight_layout=True)\n",
    "axs[0,0].hist(df[' red'],bins=30)\n",
    "axs[0,1].hist(df[' green'],bins=30)\n",
    "axs[0,2].hist(df['blue'],bins=30)\n",
    "axs[1,0].hist(df[' nir'],bins=30)\n",
    "axs[1,1].hist(df[' swir1'],bins=30)\n",
    "axs[1,2].hist(df[' swir2'],bins=30)"
   ]
  },
  {
   "cell_type": "code",
   "execution_count": 5,
   "metadata": {},
   "outputs": [
    {
     "data": {
      "text/plain": [
       "<matplotlib.axes._subplots.AxesSubplot at 0x7f4c75cded30>"
      ]
     },
     "execution_count": 5,
     "metadata": {},
     "output_type": "execute_result"
    },
    {
     "data": {
      "image/png": "[encoded data removed]",
      "text/plain": [
       "<Figure size 432x288 with 1 Axes>"
      ]
     },
     "metadata": {
      "needs_background": "light"
     },
     "output_type": "display_data"
    }
   ],
   "source": [
    "# Plot a histogram of WCF values\n",
    "df['WCF'].hist()"
   ]
  },
  {
   "cell_type": "markdown",
   "metadata": {},
   "source": [
    "#### Create and evaluate model\n",
    "\n",
    "https://www.youtube.com/watch?v=YYjvkSJoui4 "
   ]
  },
  {
   "cell_type": "code",
   "execution_count": 40,
   "metadata": {},
   "outputs": [],
   "source": [
    "# Handle misisng data\n",
    "df = df.dropna()\n",
    "\n",
    "# Define dependent variable\n",
    "Y = df['WCF']\n",
    "\n",
    "# Define independent variables\n",
    "X = df.drop(labels=['WCF'],axis=1)\n",
    "\n",
    "# Split model into testing and training\n",
    "X_train, X_test, Y_train, Y_test = train_test_split(X, Y, test_size=0.2, random_state=20)\n",
    "\n",
    "# Define model\n",
    "model = RandomForestRegressor(n_estimators=100, # number of trees in forest, is this equal to ensemble?\n",
    "                              #criterion = 'mse', # function to measure the quality of the split\n",
    "                              #max_depth = None, # max depth of tree. If None, then nodes are expanded until all laves are pure, or until all leaves contain less than min_samples_split\n",
    "                              #min_samples_split = 30, # Min no. samples required to be at a split node \n",
    "                              min_samples_leaf = 50, # Min no. samples required to be at a leaf node \n",
    "                              #min_weight_fraction_leaf = 0, # The min weighted fraction. Samples have equal weight when 0.\n",
    "                              #max_features = 'auto', # The number of features to consider when looking for the best split\n",
    "                              #max_leaf_nodes = None, # If None, then unlimited number of leaf nodes\n",
    "                              #min_impurity_decrease = 0, # Split nodes to decrease impurity\n",
    "                              #min_impurity_split = 1e-7, # Replaced by min_impurity_decrease\n",
    "                              #bootstrap = true, # Whether to bootstrap samples when building trees. If False, the whole dataset is used ot build each tree.\n",
    "                              #oob_score = False, # Whether to use out-of-bag samples to estimate R^2 on unseen data\n",
    "                              #n_jobs = None, # The number of jobs to run in parallel. None means 1\n",
    "                              random_state=30, # Controls the randomness of bootstrapping and the sampling of features to consider for bets node split\n",
    "                              #verbose = 0, # Controls the verbosity when fititng and predicting\n",
    "                              #warm_start = False, # False - fit new forest, True - reuse solution from previous call amd add more estimators to ensemble\n",
    "                              #ccp_alpha = 0.0, # Complexity parameter\n",
    "                              #max_samples = None, # If bootstrap is True, the numbe rof samples to draw from X to train each base estimator\n",
    "                             )\n",
    "\n",
    "# Fit model\n",
    "model.fit(X_train,Y_train)\n",
    "\n",
    "# Predict test data\n",
    "prediction_test = model.predict(X_test)"
   ]
  },
  {
   "cell_type": "code",
   "execution_count": 41,
   "metadata": {},
   "outputs": [
    {
     "data": {
      "text/html": [
       "<div>\n",
       "<style scoped>\n",
       "    .dataframe tbody tr th:only-of-type {\n",
       "        vertical-align: middle;\n",
       "    }\n",
       "\n",
       "    .dataframe tbody tr th {\n",
       "        vertical-align: top;\n",
       "    }\n",
       "\n",
       "    .dataframe thead th {\n",
       "        text-align: right;\n",
       "    }\n",
       "</style>\n",
       "<table border=\"1\" class=\"dataframe\">\n",
       "  <thead>\n",
       "    <tr style=\"text-align: right;\">\n",
       "      <th></th>\n",
       "      <th>blue</th>\n",
       "      <th>green</th>\n",
       "      <th>red</th>\n",
       "      <th>nir</th>\n",
       "      <th>swir1</th>\n",
       "      <th>swir2</th>\n",
       "    </tr>\n",
       "  </thead>\n",
       "  <tbody>\n",
       "    <tr>\n",
       "      <th>19134</th>\n",
       "      <td>0.033285</td>\n",
       "      <td>0.055250</td>\n",
       "      <td>0.080734</td>\n",
       "      <td>0.19052</td>\n",
       "      <td>0.20046</td>\n",
       "      <td>0.144430</td>\n",
       "    </tr>\n",
       "    <tr>\n",
       "      <th>31581</th>\n",
       "      <td>0.007428</td>\n",
       "      <td>0.025892</td>\n",
       "      <td>0.029882</td>\n",
       "      <td>0.19237</td>\n",
       "      <td>0.08904</td>\n",
       "      <td>0.040041</td>\n",
       "    </tr>\n",
       "    <tr>\n",
       "      <th>22772</th>\n",
       "      <td>0.034568</td>\n",
       "      <td>0.054711</td>\n",
       "      <td>0.062599</td>\n",
       "      <td>0.20995</td>\n",
       "      <td>0.18049</td>\n",
       "      <td>0.112290</td>\n",
       "    </tr>\n",
       "    <tr>\n",
       "      <th>25767</th>\n",
       "      <td>0.026890</td>\n",
       "      <td>0.041377</td>\n",
       "      <td>0.029134</td>\n",
       "      <td>0.32917</td>\n",
       "      <td>0.11834</td>\n",
       "      <td>0.046095</td>\n",
       "    </tr>\n",
       "    <tr>\n",
       "      <th>9749</th>\n",
       "      <td>0.035851</td>\n",
       "      <td>0.054980</td>\n",
       "      <td>0.067171</td>\n",
       "      <td>0.18974</td>\n",
       "      <td>0.22409</td>\n",
       "      <td>0.134130</td>\n",
       "    </tr>\n",
       "  </tbody>\n",
       "</table>\n",
       "</div>"
      ],
      "text/plain": [
       "           blue     green       red      nir    swir1     swir2\n",
       "19134  0.033285  0.055250  0.080734  0.19052  0.20046  0.144430\n",
       "31581  0.007428  0.025892  0.029882  0.19237  0.08904  0.040041\n",
       "22772  0.034568  0.054711  0.062599  0.20995  0.18049  0.112290\n",
       "25767  0.026890  0.041377  0.029134  0.32917  0.11834  0.046095\n",
       "9749   0.035851  0.054980  0.067171  0.18974  0.22409  0.134130"
      ]
     },
     "execution_count": 41,
     "metadata": {},
     "output_type": "execute_result"
    }
   ],
   "source": [
    "X_train.head()"
   ]
  },
  {
   "cell_type": "code",
   "execution_count": 42,
   "metadata": {},
   "outputs": [
    {
     "data": {
      "text/plain": [
       "{'bootstrap': True,\n",
       " 'ccp_alpha': 0.0,\n",
       " 'criterion': 'mse',\n",
       " 'max_depth': None,\n",
       " 'max_features': 'auto',\n",
       " 'max_leaf_nodes': None,\n",
       " 'max_samples': None,\n",
       " 'min_impurity_decrease': 0.0,\n",
       " 'min_impurity_split': None,\n",
       " 'min_samples_leaf': 50,\n",
       " 'min_samples_split': 2,\n",
       " 'min_weight_fraction_leaf': 0.0,\n",
       " 'n_estimators': 100,\n",
       " 'n_jobs': None,\n",
       " 'oob_score': False,\n",
       " 'random_state': 30,\n",
       " 'verbose': 0,\n",
       " 'warm_start': False}"
      ]
     },
     "execution_count": 42,
     "metadata": {},
     "output_type": "execute_result"
    }
   ],
   "source": [
    "model.get_params()"
   ]
  },
  {
   "cell_type": "markdown",
   "metadata": {},
   "source": [
    "#### Performance metrics\n",
    "\n",
    "In draft:\n",
    "- Root mean square estimate (RMSE) = 0.061\n",
    "- Coefficient of determination (R^2) = 0.862\n",
    "- Nash-Sutcliffe model efficiency (ME) = 0.862"
   ]
  },
  {
   "cell_type": "code",
   "execution_count": 45,
   "metadata": {},
   "outputs": [
    {
     "name": "stdout",
     "output_type": "stream",
     "text": [
      "Explained variance score = \n",
      "0.8492327927931287\n",
      "R^2 =\n",
      "0.8492093019788143\n",
      "RMSE =\n",
      "0.003991322713870253\n"
     ]
    }
   ],
   "source": [
    "# Metrics\n",
    "print('Explained variance score = ')\n",
    "print(metrics.explained_variance_score(Y_test, prediction_test)) # what measure to use https://scikit-learn.org/stable/modules/model_evaluation.html\n",
    "print('R^2 =')\n",
    "print(metrics.r2_score(Y_test, prediction_test))\n",
    "print('RMSE =')\n",
    "print(metrics.mean_squared_error(Y_test, prediction_test))"
   ]
  },
  {
   "cell_type": "code",
   "execution_count": 46,
   "metadata": {},
   "outputs": [
    {
     "data": {
      "text/plain": [
       "21884    0.22498\n",
       "36839    0.37884\n",
       "34066    0.31363\n",
       "34359    0.29547\n",
       "37144    0.30360\n",
       "          ...   \n",
       "27092    0.48518\n",
       "26112    0.32235\n",
       "11671    0.39974\n",
       "36657    0.45676\n",
       "33402    0.26588\n",
       "Name: WCF, Length: 8241, dtype: float64"
      ]
     },
     "execution_count": 46,
     "metadata": {},
     "output_type": "execute_result"
    }
   ],
   "source": [
    "Y_test"
   ]
  },
  {
   "cell_type": "code",
   "execution_count": 12,
   "metadata": {},
   "outputs": [
    {
     "data": {
      "text/plain": [
       "<matplotlib.collections.PathCollection at 0x7f4c75bc66a0>"
      ]
     },
     "execution_count": 12,
     "metadata": {},
     "output_type": "execute_result"
    },
    {
     "data": {
      "image/png": "[encoded data removed]",
      "text/plain": [
       "<Figure size 432x288 with 1 Axes>"
      ]
     },
     "metadata": {
      "needs_background": "light"
     },
     "output_type": "display_data"
    }
   ],
   "source": [
    "plt.scatter(Y_test, prediction_test)"
   ]
  },
  {
   "cell_type": "code",
   "execution_count": 13,
   "metadata": {},
   "outputs": [
    {
     "data": {
      "text/plain": [
       "<matplotlib.collections.PathCollection at 0x7f4c75a4ce48>"
      ]
     },
     "execution_count": 13,
     "metadata": {},
     "output_type": "execute_result"
    },
    {
     "data": {
      "image/png": "[encoded data removed]",
      "text/plain": [
       "<Figure size 432x288 with 6 Axes>"
      ]
     },
     "metadata": {
      "needs_background": "light"
     },
     "output_type": "display_data"
    }
   ],
   "source": [
    "fig, axs = plt.subplots(2, 3, sharey=True, tight_layout=True)\n",
    "axs[0,0].scatter(df[' red'],df['WCF'])\n",
    "axs[0,1].scatter(df[' green'],df['WCF'])\n",
    "axs[0,2].scatter(df['blue'],df['WCF'])\n",
    "axs[1,0].scatter(df[' nir'],df['WCF'])\n",
    "axs[1,1].scatter(df[' swir1'],df['WCF'])\n",
    "axs[1,2].scatter(df[' swir2'],df['WCF'])"
   ]
  },
  {
   "cell_type": "markdown",
   "metadata": {},
   "source": [
    "#### Order of importance\n",
    "\n",
    "\n",
    "\n",
    "nir, blue, swir1, green, swir2, red"
   ]
  },
  {
   "cell_type": "code",
   "execution_count": 14,
   "metadata": {},
   "outputs": [
    {
     "name": "stdout",
     "output_type": "stream",
     "text": [
      " red      0.592814\n",
      " nir      0.110904\n",
      " swir1    0.090928\n",
      " swir2    0.084813\n",
      " green    0.081431\n",
      "blue      0.039109\n",
      "dtype: float64\n"
     ]
    }
   ],
   "source": [
    "# Determine the importance of each of the bands\n",
    "#print(model.feature_importances_) # need to format nicely\n",
    "feature_list = list(X.columns)\n",
    "feature_imp = pd.Series(model.feature_importances_,index=feature_list).sort_values(ascending=False)\n",
    "print(feature_imp)"
   ]
  },
  {
   "cell_type": "markdown",
   "metadata": {},
   "source": [
    "## Hyperparameter tuning with:\n",
    "1. Randomized Search CV\n",
    "2. Grid Search CV"
   ]
  },
  {
   "cell_type": "code",
   "execution_count": 15,
   "metadata": {},
   "outputs": [
    {
     "name": "stdout",
     "output_type": "stream",
     "text": [
      "{'bootstrap': True, 'ccp_alpha': 0.0, 'criterion': 'mse', 'max_depth': None, 'max_features': 'auto', 'max_leaf_nodes': None, 'max_samples': None, 'min_impurity_decrease': 0.0, 'min_impurity_split': None, 'min_samples_leaf': 1, 'min_samples_split': 2, 'min_weight_fraction_leaf': 0.0, 'n_estimators': 100, 'n_jobs': -1, 'oob_score': False, 'random_state': None, 'verbose': 0, 'warm_start': False}\n"
     ]
    }
   ],
   "source": [
    "# Create a blank model\n",
    "model_cv = RandomForestRegressor(n_jobs=-1, verbose=0)\n",
    "\n",
    "# View the hyperparameters\n",
    "print(model_cv.get_params())"
   ]
  },
  {
   "cell_type": "markdown",
   "metadata": {},
   "source": [
    "## Explore parameter tuning with Randomized Search CV"
   ]
  },
  {
   "cell_type": "markdown",
   "metadata": {},
   "source": [
    "#### Set up the grid for use in the randomised search"
   ]
  },
  {
   "cell_type": "code",
   "execution_count": null,
   "metadata": {},
   "outputs": [],
   "source": [
    "# # Number of features to consider at every split\n",
    "# max_features = ['auto', 'sqrt']\n",
    "\n",
    "# # Maximum number of levels in tree\n",
    "# max_depth = [int(x) for x in np.linspace(10, 100, num = 11)]\n",
    "# max_depth.append(None)\n",
    "\n",
    "# # Minimum number of samples required to split a node\n",
    "# min_samples_split = [2, 5, 10]\n",
    "\n",
    "# max_leaf_nodes = [20, 25, 30, 35, 40]\n",
    "\n",
    "# # Method of selecting samples for training each tree\n",
    "# bootstrap = [True, False]"
   ]
  },
  {
   "cell_type": "markdown",
   "metadata": {},
   "source": [
    "Variables to use in the grid:"
   ]
  },
  {
   "cell_type": "code",
   "execution_count": 56,
   "metadata": {},
   "outputs": [],
   "source": [
    "# Number of trees in random forest\n",
    "n_estimators = [int(x) for x in np.linspace(start = 40, stop = 300, num = 20)]\n",
    "\n",
    "# Minimum number of samples required at each leaf\n",
    "min_samples_leaf = [1, 10, 30, 50, 75, 100]\n",
    "\n",
    "# Random state\n",
    "random_state = [None, 0, 10, 20, 30]"
   ]
  },
  {
   "cell_type": "markdown",
   "metadata": {},
   "source": [
    "Create the grid:"
   ]
  },
  {
   "cell_type": "code",
   "execution_count": 57,
   "metadata": {},
   "outputs": [
    {
     "name": "stdout",
     "output_type": "stream",
     "text": [
      "{'n_estimators': [40, 53, 67, 81, 94, 108, 122, 135, 149, 163, 176, 190, 204, 217, 231, 245, 258, 272, 286, 300], 'max_features': ['auto', 'sqrt'], 'max_depth': [10, 19, 28, 37, 46, 55, 64, 73, 82, 91, 100, None], 'min_samples_split': [2, 5, 10], 'min_samples_leaf': [1, 10, 30, 50, 75, 100], 'bootstrap': [True, False]}\n"
     ]
    }
   ],
   "source": [
    "# Create the random grid\n",
    "random_grid = {'n_estimators': n_estimators,\n",
    "               'max_features': max_features,\n",
    "               'max_depth': max_depth,\n",
    "               'min_samples_split': min_samples_split,\n",
    "               'min_samples_leaf': min_samples_leaf,\n",
    "               'bootstrap': bootstrap}\n",
    "print(random_grid)"
   ]
  },
  {
   "cell_type": "markdown",
   "metadata": {},
   "source": [
    "#### Run the randomised search\n",
    "\n",
    "This may take a while... \n",
    "(20 takes about 8 minutes)"
   ]
  },
  {
   "cell_type": "code",
   "execution_count": 58,
   "metadata": {},
   "outputs": [
    {
     "name": "stdout",
     "output_type": "stream",
     "text": [
      "Fitting 3 folds for each of 20 candidates, totalling 60 fits\n"
     ]
    },
    {
     "name": "stderr",
     "output_type": "stream",
     "text": [
      "[Parallel(n_jobs=-1)]: Using backend LokyBackend with 2 concurrent workers.\n",
      "[Parallel(n_jobs=-1)]: Done  37 tasks      | elapsed:  3.0min\n",
      "[Parallel(n_jobs=-1)]: Done  60 out of  60 | elapsed:  5.5min finished\n"
     ]
    }
   ],
   "source": [
    "rscv_model = RandomizedSearchCV(estimator = model_cv, param_distributions = random_grid, n_iter = 20, cv = 3, verbose=2, random_state=42, n_jobs = -1)\n",
    "rscv_results = rscv_model.fit(X_train, Y_train)"
   ]
  },
  {
   "cell_type": "markdown",
   "metadata": {},
   "source": [
    "#### See the relative importance of variables"
   ]
  },
  {
   "cell_type": "code",
   "execution_count": 36,
   "metadata": {},
   "outputs": [
    {
     "name": "stdout",
     "output_type": "stream",
     "text": [
      "blue: 0.04542\n",
      " green: 0.08816\n",
      " red: 0.5814\n",
      " nir: 0.1128\n",
      " swir1: 0.09404\n",
      " swir2: 0.07819\n"
     ]
    }
   ],
   "source": [
    "model_variables = ['blue', ' green', ' red', ' nir', ' swir1', ' swir2']\n",
    "\n",
    "# Variable importance\n",
    "for var_name, var_importance in zip(model_variables, rscv_results.best_estimator_.feature_importances_):\n",
    "    print(\"{}: {:.04}\".format(var_name, var_importance))"
   ]
  },
  {
   "cell_type": "markdown",
   "metadata": {},
   "source": [
    "#### From the randomised search find the best parameter values to use"
   ]
  },
  {
   "cell_type": "code",
   "execution_count": 38,
   "metadata": {},
   "outputs": [
    {
     "data": {
      "text/plain": [
       "RandomForestRegressor(bootstrap=True, ccp_alpha=0.0, criterion='mse',\n",
       "                      max_depth=28, max_features='auto', max_leaf_nodes=None,\n",
       "                      max_samples=None, min_impurity_decrease=0.0,\n",
       "                      min_impurity_split=None, min_samples_leaf=1,\n",
       "                      min_samples_split=10, min_weight_fraction_leaf=0.0,\n",
       "                      n_estimators=163, n_jobs=-1, oob_score=False,\n",
       "                      random_state=None, verbose=0, warm_start=False)"
      ]
     },
     "execution_count": 38,
     "metadata": {},
     "output_type": "execute_result"
    }
   ],
   "source": [
    "# Print best parameter values\n",
    "rscv_results.best_estimator_"
   ]
  },
  {
   "cell_type": "markdown",
   "metadata": {},
   "source": [
    "#### Create an improved model using the best parameter values\n",
    "Copy best_estimator_ parameters into the code below"
   ]
  },
  {
   "cell_type": "code",
   "execution_count": 53,
   "metadata": {},
   "outputs": [
    {
     "data": {
      "text/plain": [
       "0.8760712185020482"
      ]
     },
     "execution_count": 53,
     "metadata": {},
     "output_type": "execute_result"
    }
   ],
   "source": [
    "# Create an instance of the model\n",
    "improved_model = RandomForestRegressor(bootstrap=True, ccp_alpha=0.0, criterion='mse',\n",
    "                      max_depth=28, max_features='auto', max_leaf_nodes=None,\n",
    "                      max_samples=None, min_impurity_decrease=0.0,\n",
    "                      min_impurity_split=None, min_samples_leaf=1,\n",
    "                      min_samples_split=10, min_weight_fraction_leaf=0.0,\n",
    "                      n_estimators=163, n_jobs=-1, oob_score=False,\n",
    "                      random_state=None, verbose=0, warm_start=False)\n",
    "\n",
    "# Fit the model\n",
    "improved_model.fit(X_train,Y_train)\n",
    "\n",
    "# Predict Y from X_test\n",
    "pt = improved_model.predict(X_test)\n",
    "\n",
    "# Print the R2\n",
    "metrics.r2_score(Y_test,pt)"
   ]
  },
  {
   "cell_type": "markdown",
   "metadata": {},
   "source": [
    "## Detailed parameter tuning with Grid Search CV"
   ]
  },
  {
   "cell_type": "markdown",
   "metadata": {},
   "source": [
    "#### Set up the grid for use in the grid search"
   ]
  },
  {
   "cell_type": "code",
   "execution_count": 68,
   "metadata": {},
   "outputs": [],
   "source": [
    "param_grid = {\n",
    "    'n_estimators': [100, 150, 200],\n",
    "    'min_samples_leaf': [1, 30, 60],\n",
    "    'random_state':[None,0,30]\n",
    "}"
   ]
  },
  {
   "cell_type": "markdown",
   "metadata": {},
   "source": [
    "#### Run the grid search\n",
    "\n",
    "This may take a while... \n",
    "(37 tasks takes about 5.5 minutes)"
   ]
  },
  {
   "cell_type": "code",
   "execution_count": 69,
   "metadata": {},
   "outputs": [
    {
     "name": "stdout",
     "output_type": "stream",
     "text": [
      "Fitting 3 folds for each of 27 candidates, totalling 81 fits\n"
     ]
    },
    {
     "name": "stderr",
     "output_type": "stream",
     "text": [
      "[Parallel(n_jobs=-1)]: Using backend LokyBackend with 2 concurrent workers.\n",
      "[Parallel(n_jobs=-1)]: Done  37 tasks      | elapsed:  5.5min\n",
      "[Parallel(n_jobs=-1)]: Done  81 out of  81 | elapsed: 10.3min finished\n"
     ]
    }
   ],
   "source": [
    "grid_model = GridSearchCV(estimator = model_cv, param_grid = param_grid, cv = 3, verbose=2, n_jobs = -1)\n",
    "grid_results = grid_model.fit(X_train, Y_train)"
   ]
  },
  {
   "cell_type": "markdown",
   "metadata": {},
   "source": [
    "#### From the randomised search find the best parameter values to use"
   ]
  },
  {
   "cell_type": "code",
   "execution_count": 70,
   "metadata": {},
   "outputs": [
    {
     "name": "stdout",
     "output_type": "stream",
     "text": [
      "RandomForestRegressor(bootstrap=True, ccp_alpha=0.0, criterion='mse',\n",
      "                      max_depth=None, max_features='auto', max_leaf_nodes=None,\n",
      "                      max_samples=None, min_impurity_decrease=0.0,\n",
      "                      min_impurity_split=None, min_samples_leaf=1,\n",
      "                      min_samples_split=2, min_weight_fraction_leaf=0.0,\n",
      "                      n_estimators=200, n_jobs=-1, oob_score=False,\n",
      "                      random_state=30, verbose=0, warm_start=False)\n"
     ]
    }
   ],
   "source": [
    "print(grid_results.best_estimator_)"
   ]
  },
  {
   "cell_type": "markdown",
   "metadata": {},
   "source": [
    "#### Create an improved model using the best parameter values\n",
    "Copy best_estimator_ parameters into the code below"
   ]
  },
  {
   "cell_type": "code",
   "execution_count": 71,
   "metadata": {},
   "outputs": [
    {
     "data": {
      "text/plain": [
       "0.8789292728182699"
      ]
     },
     "execution_count": 71,
     "metadata": {},
     "output_type": "execute_result"
    }
   ],
   "source": [
    "# Create an instance of the model\n",
    "improved_grid_model = RandomForestRegressor(bootstrap=True, ccp_alpha=0.0, criterion='mse',\n",
    "                      max_depth=None, max_features='auto', max_leaf_nodes=None,\n",
    "                      max_samples=None, min_impurity_decrease=0.0,\n",
    "                      min_impurity_split=None, min_samples_leaf=1,\n",
    "                      min_samples_split=2, min_weight_fraction_leaf=0.0,\n",
    "                      n_estimators=200, n_jobs=-1, oob_score=False,\n",
    "                      random_state=30, verbose=0, warm_start=False)\n",
    "\n",
    "# Fit the model\n",
    "improved_grid_model.fit(X_train,Y_train)\n",
    "\n",
    "# Predict Y from X_test\n",
    "grid_pt = improved_grid_model.predict(X_test)\n",
    "\n",
    "# Print the R2\n",
    "metrics.r2_score(Y_test,grid_pt)"
   ]
  },
  {
   "cell_type": "markdown",
   "metadata": {},
   "source": [
    "## Choose location\n",
    "\n",
    "When models were made for individual locations the performance varied significantly.\n",
    "\n",
    "- Whroo in Victoria have an R^2 of only 0.35 (-36.703137, 145.035462)\n",
    "- ACT had an R^2 of 0.87 (-35.434967, 149.002428)"
   ]
  },
  {
   "cell_type": "markdown",
   "metadata": {},
   "source": [
    "How to make this work as an area:"
   ]
  },
  {
   "cell_type": "code",
   "execution_count": 72,
   "metadata": {},
   "outputs": [],
   "source": [
    "# Ayr\n",
    "x = (1500000, 1600000)\n",
    "y = (-2200000, -2100000)\n",
    "min_x = 1500000\n",
    "max_x = 1600000\n",
    "min_y = -2200000\n",
    "max_y = -2100000\n",
    "res_x = 100\n",
    "res_y = -100"
   ]
  },
  {
   "cell_type": "code",
   "execution_count": 74,
   "metadata": {},
   "outputs": [
    {
     "name": "stderr",
     "output_type": "stream",
     "text": [
      "/usr/local/lib/python3.6/dist-packages/pyproj/crs.py:77: FutureWarning: '+init=<authority>:<code>' syntax is deprecated. '<authority>:<code>' is the preferred initialization method.\n",
      "  return _prepare_from_string(\" \".join(pjargs))\n",
      "/usr/local/lib/python3.6/dist-packages/pyproj/crs.py:77: FutureWarning: '+init=<authority>:<code>' syntax is deprecated. '<authority>:<code>' is the preferred initialization method.\n",
      "  return _prepare_from_string(\" \".join(pjargs))\n"
     ]
    },
    {
     "data": {
      "text/html": [
       "<div style=\"width:100%;\"><div style=\"position:relative;width:100%;height:0;padding-bottom:60%;\"><iframe src=\"data:text/html;charset=utf-8;base64,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\" style=\"position:absolute;width:100%;height:100%;left:0;top:0;border:none !important;\" allowfullscreen webkitallowfullscreen mozallowfullscreen></iframe></div></div>"
      ],
      "text/plain": [
       "<folium.folium.Map at 0x7f4c75a706a0>"
      ]
     },
     "execution_count": 74,
     "metadata": {},
     "output_type": "execute_result"
    }
   ],
   "source": [
    "# Set the central latitude and longitude\n",
    "central_lat = -35.434967\n",
    "central_lon = 149.002428\n",
    "\n",
    "# Set the buffer to load around the central coordinates\n",
    "buffer = 0.1\n",
    "\n",
    "# Compute the bounding box for the study area\n",
    "study_area_lat = (central_lat - buffer, central_lat + buffer)\n",
    "study_area_lon = (central_lon - buffer, central_lon + buffer)\n",
    "\n",
    "display_map(x=study_area_lon, y=study_area_lat, margin=-0.2)"
   ]
  },
  {
   "cell_type": "code",
   "execution_count": 75,
   "metadata": {},
   "outputs": [
    {
     "data": {
      "text/html": [
       "<pre>&lt;xarray.Dataset&gt;\n",
       "Dimensions:  ()\n",
       "Data variables:\n",
       "    *empty*</pre>"
      ],
      "text/plain": [
       "<xarray.Dataset>\n",
       "Dimensions:  ()\n",
       "Data variables:\n",
       "    *empty*"
      ]
     },
     "execution_count": 75,
     "metadata": {},
     "output_type": "execute_result"
    }
   ],
   "source": [
    "start_date = '2009'\n",
    "end_date = '2009' \n",
    "\n",
    "#Load all data in baseline period available from Near Real Time data\n",
    "\n",
    "baseline_da = dc.load(\n",
    "              product='ls5_nbart_geomedian_annual',# ls5_nbart_geomedian_annual, ls8_nbart_geomedian_annual\n",
    "              x=study_area_lon,\n",
    "              y=study_area_lat,\n",
    "              time=(start_date, end_date),\n",
    "              #measurements=['nbar_blue','nbar_green','nbar_red','nbar_nir_1', 'nbar_swir_3'],\n",
    "              output_crs='EPSG:3577',\n",
    "              resolution=(-10, 10),\n",
    "              #group_by='solar_day'\n",
    ")\n",
    "baseline_da"
   ]
  },
  {
   "cell_type": "code",
   "execution_count": null,
   "metadata": {},
   "outputs": [],
   "source": [
    "print(baseline_da.min())\n",
    "print(baseline_da.max())\n",
    "print(df.min())\n",
    "print(df.max())"
   ]
  },
  {
   "cell_type": "markdown",
   "metadata": {},
   "source": [
    "#### Prepare dataset to go in model"
   ]
  },
  {
   "cell_type": "code",
   "execution_count": null,
   "metadata": {},
   "outputs": [],
   "source": [
    "flat = sklearn_flatten(baseline_da)\n",
    "flat"
   ]
  },
  {
   "cell_type": "code",
   "execution_count": null,
   "metadata": {},
   "outputs": [],
   "source": [
    "#normal = preprocessing.normalize(flat)\n",
    "#normal = (flat-flat.mean())/(flat.max()-flat.min())\n",
    "normal = flat/10000\n",
    "print(flat.min())\n",
    "print(flat.max())\n",
    "print(normal.min())\n",
    "print(normal.max())\n",
    "normal"
   ]
  },
  {
   "cell_type": "markdown",
   "metadata": {},
   "source": [
    "#### Run model"
   ]
  },
  {
   "cell_type": "code",
   "execution_count": null,
   "metadata": {},
   "outputs": [],
   "source": [
    "results = model.predict(normal)\n",
    "results"
   ]
  },
  {
   "cell_type": "markdown",
   "metadata": {},
   "source": [
    "#### Unflatten results"
   ]
  },
  {
   "cell_type": "code",
   "execution_count": null,
   "metadata": {},
   "outputs": [],
   "source": [
    "unflat = (sklearn_unflatten(results,baseline_da).transpose())[0]\n",
    "unflat"
   ]
  },
  {
   "cell_type": "code",
   "execution_count": null,
   "metadata": {},
   "outputs": [],
   "source": [
    "max(results)"
   ]
  },
  {
   "cell_type": "markdown",
   "metadata": {},
   "source": [
    "#### Plot some results"
   ]
  },
  {
   "cell_type": "code",
   "execution_count": null,
   "metadata": {},
   "outputs": [],
   "source": [
    "# Woody cover in training data varies between 0 and 0.75\n",
    "unflat.plot(figsize=(10,10),vmin=0,vmax=0.5)"
   ]
  },
  {
   "cell_type": "code",
   "execution_count": null,
   "metadata": {},
   "outputs": [],
   "source": [
    "xr.plot.hist(unflat,bins=100,range=(0,0.05))"
   ]
  },
  {
   "cell_type": "markdown",
   "metadata": {},
   "source": [
    "#### Apply a threshold"
   ]
  },
  {
   "cell_type": "code",
   "execution_count": null,
   "metadata": {},
   "outputs": [],
   "source": [
    "not_woody = unflat<=0.1\n",
    "woody = np.logical_and(unflat>0.1,unflat<=0.2)\n",
    "very_woody = unflat>0.2\n",
    "\n",
    "#We use this numpy function to stack 2-dimensional arrays over the 3rd axis or depth:\n",
    "classes= np.dstack((not_woody,very_woody,woody)).astype(np.uint8) * 255\n",
    "\n",
    "plt.imshow(classes)"
   ]
  },
  {
   "cell_type": "code",
   "execution_count": null,
   "metadata": {},
   "outputs": [],
   "source": [
    "# Constants for calculating burnt area\n",
    "resolution = (-30,30)\n",
    "pixel_length = resolution[1] # in metres\n",
    "#print(pixel_length)\n",
    "m_per_km = 1000 # conversion from metres to kilometres\n",
    "\n",
    "# Area per pixel\n",
    "area_per_pixel = pixel_length**2/m_per_km**2\n",
    "#print(area_per_pixel)\n",
    "\n",
    "# Calculate areas\n",
    "not_woody_area = np.sum(not_woody.values)*area_per_pixel\n",
    "woody_area = np.sum(woody.values)*area_per_pixel\n",
    "very_woody_area = np.sum(very_woody.values)*area_per_pixel\n",
    "\n",
    "print('Not woody:  ',not_woody_area)\n",
    "print('Woody:      ',woody_area)\n",
    "print('Very woody: ',very_woody_area)"
   ]
  },
  {
   "cell_type": "code",
   "execution_count": null,
   "metadata": {},
   "outputs": [],
   "source": [
    "# Mask\n",
    "masked = baseline_da.where(unflat>0.1)\n",
    "rgb(masked, bands=['red', 'green', 'blue'],size=10)"
   ]
  },
  {
   "cell_type": "code",
   "execution_count": null,
   "metadata": {},
   "outputs": [],
   "source": [
    "# Visualise median image as true colour image\n",
    "rgb(baseline_da, bands=['red', 'green', 'blue'],size=10)"
   ]
  },
  {
   "cell_type": "code",
   "execution_count": null,
   "metadata": {},
   "outputs": [],
   "source": []
  },
  {
   "cell_type": "code",
   "execution_count": null,
   "metadata": {},
   "outputs": [],
   "source": []
  }
 ],
 "metadata": {
  "kernelspec": {
   "display_name": "Python 3",
   "language": "python",
   "name": "python3"
  },
  "language_info": {
   "codemirror_mode": {
    "name": "ipython",
    "version": 3
   },
   "file_extension": ".py",
   "mimetype": "text/x-python",
   "name": "python",
   "nbconvert_exporter": "python",
   "pygments_lexer": "ipython3",
   "version": "3.6.9"
  }
 },
 "nbformat": 4,
 "nbformat_minor": 4
}
